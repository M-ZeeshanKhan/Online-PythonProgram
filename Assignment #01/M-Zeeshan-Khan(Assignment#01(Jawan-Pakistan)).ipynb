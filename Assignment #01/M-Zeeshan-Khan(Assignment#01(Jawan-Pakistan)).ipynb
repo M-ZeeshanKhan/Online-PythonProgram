{
 "cells": [
  {
   "cell_type": "markdown",
   "id": "6f388405",
   "metadata": {},
   "source": [
    "# TASK 01"
   ]
  },
  {
   "cell_type": "code",
   "execution_count": 5,
   "id": "6caa95a3",
   "metadata": {},
   "outputs": [
    {
     "name": "stdout",
     "output_type": "stream",
     "text": [
      "Twinkle, twinkle, little star, \n",
      " \t How i wonder what you are! \n",
      " \t\t up above the world so high, \n",
      " \t\t Like a diamond in the sky. \n",
      " Twinkle, twinkle, little star, \n",
      " \t How I Wonder what you are\n"
     ]
    }
   ],
   "source": [
    "print(\"Twinkle, twinkle, little star, \\n \\t How i wonder what you are! \\n \\t\\t up above the world so high, \\n \\t\\t Like a diamond in the sky. \\n Twinkle, twinkle, little star, \\n \\t How I Wonder what you are\")\n"
   ]
  },
  {
   "cell_type": "markdown",
   "id": "d24f2c80",
   "metadata": {},
   "source": [
    "# TASK 02"
   ]
  },
  {
   "cell_type": "code",
   "execution_count": 8,
   "id": "cb22da0b",
   "metadata": {},
   "outputs": [
    {
     "name": "stdout",
     "output_type": "stream",
     "text": [
      "python Version which i am using3.9.7 (default, Sep 16 2021, 16:59:28) [MSC v.1916 64 bit (AMD64)]\n"
     ]
    }
   ],
   "source": [
    "import sys\n",
    "\n",
    "print(\"python Version which i am using\" + sys.version)\n"
   ]
  },
  {
   "cell_type": "markdown",
   "id": "19960088",
   "metadata": {},
   "source": [
    "# TASK 03"
   ]
  },
  {
   "cell_type": "code",
   "execution_count": 17,
   "id": "c0807a28",
   "metadata": {},
   "outputs": [
    {
     "name": "stdout",
     "output_type": "stream",
     "text": [
      "Current Time is: 22:26:20.093042\n",
      "Todays date 2022-01-03\n"
     ]
    }
   ],
   "source": [
    "from datetime import date\n",
    "from datetime import datetime\n",
    "now = datetime.now().time() \n",
    "today = date.today()\n",
    "print(\"Current Time is:\" , now )\n",
    "print(\"Todays date\" , today)"
   ]
  },
  {
   "cell_type": "markdown",
   "id": "1e37e85c",
   "metadata": {},
   "source": [
    "# TASK 04"
   ]
  },
  {
   "cell_type": "code",
   "execution_count": 20,
   "id": "754795f7",
   "metadata": {},
   "outputs": [
    {
     "name": "stdout",
     "output_type": "stream",
     "text": [
      "Please enter radius of circle : 8\n",
      "Area of Circle is : 201.06192982974676\n"
     ]
    }
   ],
   "source": [
    "from math import pi\n",
    "\n",
    "radiusdOfCircle = float (input(\"Please enter radius of circle : \"))\n",
    "print (\"Area of Circle is : \" + str(pi * radiusdOfCircle**2))"
   ]
  },
  {
   "cell_type": "markdown",
   "id": "6ae662bc",
   "metadata": {},
   "source": [
    "# TASK 05"
   ]
  },
  {
   "cell_type": "code",
   "execution_count": 22,
   "id": "032f0c2a",
   "metadata": {},
   "outputs": [
    {
     "name": "stdout",
     "output_type": "stream",
     "text": [
      "Please Enter Your First Name: Zeeshan\n",
      "Please Enter Your Last Name: Khan\n",
      "Hello Khan Zeeshan\n"
     ]
    }
   ],
   "source": [
    "firstnameOfUser = input(\"Please Enter Your First Name: \")\n",
    "lastnameOfUser = input(\"Please Enter Your Last Name: \")\n",
    "print (\"Hello \" + lastnameOfUser + \" \" + firstnameOfUser)"
   ]
  },
  {
   "cell_type": "markdown",
   "id": "636b2e1e",
   "metadata": {},
   "source": [
    "# TASK 06"
   ]
  },
  {
   "cell_type": "code",
   "execution_count": 27,
   "id": "a2be4574",
   "metadata": {},
   "outputs": [
    {
     "name": "stdout",
     "output_type": "stream",
     "text": [
      "Please enter first input : 225\n",
      "Please enter Second input :65\n",
      "Addition :  290\n"
     ]
    }
   ],
   "source": [
    "firInput = int(input(\"Please enter first input : \"))\n",
    "secInput = int(input(\"Please enter Second input :\") )\n",
    "print (\"Addition : \" , firInput+secInput)"
   ]
  }
 ],
 "metadata": {
  "kernelspec": {
   "display_name": "Python 3 (ipykernel)",
   "language": "python",
   "name": "python3"
  },
  "language_info": {
   "codemirror_mode": {
    "name": "ipython",
    "version": 3
   },
   "file_extension": ".py",
   "mimetype": "text/x-python",
   "name": "python",
   "nbconvert_exporter": "python",
   "pygments_lexer": "ipython3",
   "version": "3.9.7"
  }
 },
 "nbformat": 4,
 "nbformat_minor": 5
}
